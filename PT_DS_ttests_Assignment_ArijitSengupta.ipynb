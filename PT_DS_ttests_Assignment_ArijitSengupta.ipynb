{
  "nbformat": 4,
  "nbformat_minor": 0,
  "metadata": {
    "colab": {
      "name": "PT_DS_ttests_Assignment_ArijitSengupta.ipynb",
      "provenance": [],
      "collapsed_sections": [],
      "authorship_tag": "ABX9TyM+xbxU35CknaceGdfq0iAY",
      "include_colab_link": true
    },
    "kernelspec": {
      "name": "python3",
      "display_name": "Python 3"
    },
    "language_info": {
      "name": "python"
    }
  },
  "cells": [
    {
      "cell_type": "markdown",
      "metadata": {
        "id": "view-in-github",
        "colab_type": "text"
      },
      "source": [
        "<a href=\"https://colab.research.google.com/github/sengupta-arijit-rij/Machine-Learning/blob/WorkingBranch/PT_DS_ttests_Assignment_ArijitSengupta.ipynb\" target=\"_parent\"><img src=\"https://colab.research.google.com/assets/colab-badge.svg\" alt=\"Open In Colab\"/></a>"
      ]
    },
    {
      "cell_type": "markdown",
      "source": [
        "Task 1:"
      ],
      "metadata": {
        "id": "wxJS_J6mXC44"
      }
    },
    {
      "cell_type": "code",
      "source": [
        "import pandas as pd\n",
        "import numpy as np\n",
        "import scipy.stats as st"
      ],
      "metadata": {
        "id": "68d8M1RfXPpA"
      },
      "execution_count": 1,
      "outputs": []
    },
    {
      "cell_type": "code",
      "execution_count": 2,
      "metadata": {
        "colab": {
          "base_uri": "https://localhost:8080/",
          "height": 206
        },
        "id": "SWoJzpD7WOYD",
        "outputId": "bcc6a933-7579-4cec-bd97-821bee2ae43e"
      },
      "outputs": [
        {
          "output_type": "execute_result",
          "data": {
            "text/plain": [
              "   ID  Mosq_count\n",
              "0   1           4\n",
              "1   2          10\n",
              "2   3          13\n",
              "3   4           0\n",
              "4   5          11"
            ],
            "text/html": [
              "\n",
              "  <div id=\"df-9ed25602-9b09-49ed-a612-b6beb261f0d7\">\n",
              "    <div class=\"colab-df-container\">\n",
              "      <div>\n",
              "<style scoped>\n",
              "    .dataframe tbody tr th:only-of-type {\n",
              "        vertical-align: middle;\n",
              "    }\n",
              "\n",
              "    .dataframe tbody tr th {\n",
              "        vertical-align: top;\n",
              "    }\n",
              "\n",
              "    .dataframe thead th {\n",
              "        text-align: right;\n",
              "    }\n",
              "</style>\n",
              "<table border=\"1\" class=\"dataframe\">\n",
              "  <thead>\n",
              "    <tr style=\"text-align: right;\">\n",
              "      <th></th>\n",
              "      <th>ID</th>\n",
              "      <th>Mosq_count</th>\n",
              "    </tr>\n",
              "  </thead>\n",
              "  <tbody>\n",
              "    <tr>\n",
              "      <th>0</th>\n",
              "      <td>1</td>\n",
              "      <td>4</td>\n",
              "    </tr>\n",
              "    <tr>\n",
              "      <th>1</th>\n",
              "      <td>2</td>\n",
              "      <td>10</td>\n",
              "    </tr>\n",
              "    <tr>\n",
              "      <th>2</th>\n",
              "      <td>3</td>\n",
              "      <td>13</td>\n",
              "    </tr>\n",
              "    <tr>\n",
              "      <th>3</th>\n",
              "      <td>4</td>\n",
              "      <td>0</td>\n",
              "    </tr>\n",
              "    <tr>\n",
              "      <th>4</th>\n",
              "      <td>5</td>\n",
              "      <td>11</td>\n",
              "    </tr>\n",
              "  </tbody>\n",
              "</table>\n",
              "</div>\n",
              "      <button class=\"colab-df-convert\" onclick=\"convertToInteractive('df-9ed25602-9b09-49ed-a612-b6beb261f0d7')\"\n",
              "              title=\"Convert this dataframe to an interactive table.\"\n",
              "              style=\"display:none;\">\n",
              "        \n",
              "  <svg xmlns=\"http://www.w3.org/2000/svg\" height=\"24px\"viewBox=\"0 0 24 24\"\n",
              "       width=\"24px\">\n",
              "    <path d=\"M0 0h24v24H0V0z\" fill=\"none\"/>\n",
              "    <path d=\"M18.56 5.44l.94 2.06.94-2.06 2.06-.94-2.06-.94-.94-2.06-.94 2.06-2.06.94zm-11 1L8.5 8.5l.94-2.06 2.06-.94-2.06-.94L8.5 2.5l-.94 2.06-2.06.94zm10 10l.94 2.06.94-2.06 2.06-.94-2.06-.94-.94-2.06-.94 2.06-2.06.94z\"/><path d=\"M17.41 7.96l-1.37-1.37c-.4-.4-.92-.59-1.43-.59-.52 0-1.04.2-1.43.59L10.3 9.45l-7.72 7.72c-.78.78-.78 2.05 0 2.83L4 21.41c.39.39.9.59 1.41.59.51 0 1.02-.2 1.41-.59l7.78-7.78 2.81-2.81c.8-.78.8-2.07 0-2.86zM5.41 20L4 18.59l7.72-7.72 1.47 1.35L5.41 20z\"/>\n",
              "  </svg>\n",
              "      </button>\n",
              "      \n",
              "  <style>\n",
              "    .colab-df-container {\n",
              "      display:flex;\n",
              "      flex-wrap:wrap;\n",
              "      gap: 12px;\n",
              "    }\n",
              "\n",
              "    .colab-df-convert {\n",
              "      background-color: #E8F0FE;\n",
              "      border: none;\n",
              "      border-radius: 50%;\n",
              "      cursor: pointer;\n",
              "      display: none;\n",
              "      fill: #1967D2;\n",
              "      height: 32px;\n",
              "      padding: 0 0 0 0;\n",
              "      width: 32px;\n",
              "    }\n",
              "\n",
              "    .colab-df-convert:hover {\n",
              "      background-color: #E2EBFA;\n",
              "      box-shadow: 0px 1px 2px rgba(60, 64, 67, 0.3), 0px 1px 3px 1px rgba(60, 64, 67, 0.15);\n",
              "      fill: #174EA6;\n",
              "    }\n",
              "\n",
              "    [theme=dark] .colab-df-convert {\n",
              "      background-color: #3B4455;\n",
              "      fill: #D2E3FC;\n",
              "    }\n",
              "\n",
              "    [theme=dark] .colab-df-convert:hover {\n",
              "      background-color: #434B5C;\n",
              "      box-shadow: 0px 1px 3px 1px rgba(0, 0, 0, 0.15);\n",
              "      filter: drop-shadow(0px 1px 2px rgba(0, 0, 0, 0.3));\n",
              "      fill: #FFFFFF;\n",
              "    }\n",
              "  </style>\n",
              "\n",
              "      <script>\n",
              "        const buttonEl =\n",
              "          document.querySelector('#df-9ed25602-9b09-49ed-a612-b6beb261f0d7 button.colab-df-convert');\n",
              "        buttonEl.style.display =\n",
              "          google.colab.kernel.accessAllowed ? 'block' : 'none';\n",
              "\n",
              "        async function convertToInteractive(key) {\n",
              "          const element = document.querySelector('#df-9ed25602-9b09-49ed-a612-b6beb261f0d7');\n",
              "          const dataTable =\n",
              "            await google.colab.kernel.invokeFunction('convertToInteractive',\n",
              "                                                     [key], {});\n",
              "          if (!dataTable) return;\n",
              "\n",
              "          const docLinkHtml = 'Like what you see? Visit the ' +\n",
              "            '<a target=\"_blank\" href=https://colab.research.google.com/notebooks/data_table.ipynb>data table notebook</a>'\n",
              "            + ' to learn more about interactive tables.';\n",
              "          element.innerHTML = '';\n",
              "          dataTable['output_type'] = 'display_data';\n",
              "          await google.colab.output.renderOutput(dataTable, element);\n",
              "          const docLink = document.createElement('div');\n",
              "          docLink.innerHTML = docLinkHtml;\n",
              "          element.appendChild(docLink);\n",
              "        }\n",
              "      </script>\n",
              "    </div>\n",
              "  </div>\n",
              "  "
            ]
          },
          "metadata": {},
          "execution_count": 2
        }
      ],
      "source": [
        "#  Load the data\n",
        "# URL for the dataset\n",
        "data_url = 'https://raw.githubusercontent.com/pixeltests/datasets/main/Mosquito.csv'\n",
        "df_mosquito=pd.read_csv(data_url)\n",
        "df_mosquito.head()"
      ]
    },
    {
      "cell_type": "markdown",
      "source": [
        "Task 2:"
      ],
      "metadata": {
        "id": "aJQ1fOieXvVg"
      }
    },
    {
      "cell_type": "code",
      "source": [
        "# calculate mean\n",
        "mosquito_touch_mean=df_mosquito['Mosq_count'].mean()\n",
        "mosquito_touch_mean"
      ],
      "metadata": {
        "colab": {
          "base_uri": "https://localhost:8080/"
        },
        "id": "bunS8A5FXxiB",
        "outputId": "798e3d0e-54c9-4970-dbf2-6e3657ec3c37"
      },
      "execution_count": 3,
      "outputs": [
        {
          "output_type": "execute_result",
          "data": {
            "text/plain": [
              "8.011111111111111"
            ]
          },
          "metadata": {},
          "execution_count": 3
        }
      ]
    },
    {
      "cell_type": "markdown",
      "source": [
        "Task 3:"
      ],
      "metadata": {
        "id": "BIya2dTjYIGG"
      }
    },
    {
      "cell_type": "code",
      "source": [
        "# calculate standard deviation\n",
        "mosquito_touch_std=df_mosquito['Mosq_count'].std()\n",
        "mosquito_touch_std"
      ],
      "metadata": {
        "colab": {
          "base_uri": "https://localhost:8080/"
        },
        "id": "lx3G7H_PYKCD",
        "outputId": "e42ae93a-977f-41cc-db7d-1699e0855b08"
      },
      "execution_count": 4,
      "outputs": [
        {
          "output_type": "execute_result",
          "data": {
            "text/plain": [
              "3.2825532828777257"
            ]
          },
          "metadata": {},
          "execution_count": 4
        }
      ]
    },
    {
      "cell_type": "markdown",
      "source": [
        "Task 4:"
      ],
      "metadata": {
        "id": "Iga_V8dudB09"
      }
    },
    {
      "cell_type": "markdown",
      "source": [
        "D:  H0:μ=8.2  vs.  Ha:μ≠8.2"
      ],
      "metadata": {
        "id": "PoTJfRlldFIO"
      }
    },
    {
      "cell_type": "markdown",
      "source": [
        "Task 5:"
      ],
      "metadata": {
        "id": "x5E4dILLdP2H"
      }
    },
    {
      "cell_type": "code",
      "source": [
        "#  One-sample t-test\n",
        "tstatistic,mosquito_pval=st.stats.ttest_1samp(df_mosquito['Mosq_count'], 8.2)\n",
        "print(tstatistic, mosquito_pval)"
      ],
      "metadata": {
        "colab": {
          "base_uri": "https://localhost:8080/"
        },
        "id": "dw86kfmzdShI",
        "outputId": "d2a67bd5-ee8c-4cd4-984f-e020d9d85a38"
      },
      "execution_count": 6,
      "outputs": [
        {
          "output_type": "stream",
          "name": "stdout",
          "text": [
            "-0.5459035044790239 0.5864980356272131\n"
          ]
        }
      ]
    },
    {
      "cell_type": "markdown",
      "source": [
        "Task 6:"
      ],
      "metadata": {
        "id": "i1eJhGJgYvXj"
      }
    },
    {
      "cell_type": "code",
      "source": [
        "# Answer = C: We fail to reject the null hypothesis at the 0.05 significance level and conclude that a single repellant patch does not change the mean number of mosquito touches."
      ],
      "metadata": {
        "id": "-qwrIRuaYxqw"
      },
      "execution_count": null,
      "outputs": []
    },
    {
      "cell_type": "markdown",
      "source": [
        "Task 7:"
      ],
      "metadata": {
        "id": "T5rtVcG0Y32t"
      }
    },
    {
      "cell_type": "code",
      "source": [
        "#  Load the next dataset\n",
        "data_url2 = 'https://raw.githubusercontent.com/pixeltests/datasets/main/Disney.csv'\n",
        "df_disney=pd.read_csv(data_url2)\n",
        "df_disney.head()"
      ],
      "metadata": {
        "colab": {
          "base_uri": "https://localhost:8080/",
          "height": 206
        },
        "id": "OatS-PgkZE4r",
        "outputId": "182034b4-4738-4430-b0d9-2b709d70e5a6"
      },
      "execution_count": 8,
      "outputs": [
        {
          "output_type": "execute_result",
          "data": {
            "text/plain": [
              "   ID gender  age   group      time\n",
              "0   1      M   30  M30-34  2.371944\n",
              "1   2      M   26  M25-29  2.450556\n",
              "2   3      M   32  M30-34  2.457778\n",
              "3   4      M   35  M35-39  2.655833\n",
              "4   5      M   26  M25-29  2.736111"
            ],
            "text/html": [
              "\n",
              "  <div id=\"df-4c8275c0-a5a0-4485-a3a6-1dfc4b749332\">\n",
              "    <div class=\"colab-df-container\">\n",
              "      <div>\n",
              "<style scoped>\n",
              "    .dataframe tbody tr th:only-of-type {\n",
              "        vertical-align: middle;\n",
              "    }\n",
              "\n",
              "    .dataframe tbody tr th {\n",
              "        vertical-align: top;\n",
              "    }\n",
              "\n",
              "    .dataframe thead th {\n",
              "        text-align: right;\n",
              "    }\n",
              "</style>\n",
              "<table border=\"1\" class=\"dataframe\">\n",
              "  <thead>\n",
              "    <tr style=\"text-align: right;\">\n",
              "      <th></th>\n",
              "      <th>ID</th>\n",
              "      <th>gender</th>\n",
              "      <th>age</th>\n",
              "      <th>group</th>\n",
              "      <th>time</th>\n",
              "    </tr>\n",
              "  </thead>\n",
              "  <tbody>\n",
              "    <tr>\n",
              "      <th>0</th>\n",
              "      <td>1</td>\n",
              "      <td>M</td>\n",
              "      <td>30</td>\n",
              "      <td>M30-34</td>\n",
              "      <td>2.371944</td>\n",
              "    </tr>\n",
              "    <tr>\n",
              "      <th>1</th>\n",
              "      <td>2</td>\n",
              "      <td>M</td>\n",
              "      <td>26</td>\n",
              "      <td>M25-29</td>\n",
              "      <td>2.450556</td>\n",
              "    </tr>\n",
              "    <tr>\n",
              "      <th>2</th>\n",
              "      <td>3</td>\n",
              "      <td>M</td>\n",
              "      <td>32</td>\n",
              "      <td>M30-34</td>\n",
              "      <td>2.457778</td>\n",
              "    </tr>\n",
              "    <tr>\n",
              "      <th>3</th>\n",
              "      <td>4</td>\n",
              "      <td>M</td>\n",
              "      <td>35</td>\n",
              "      <td>M35-39</td>\n",
              "      <td>2.655833</td>\n",
              "    </tr>\n",
              "    <tr>\n",
              "      <th>4</th>\n",
              "      <td>5</td>\n",
              "      <td>M</td>\n",
              "      <td>26</td>\n",
              "      <td>M25-29</td>\n",
              "      <td>2.736111</td>\n",
              "    </tr>\n",
              "  </tbody>\n",
              "</table>\n",
              "</div>\n",
              "      <button class=\"colab-df-convert\" onclick=\"convertToInteractive('df-4c8275c0-a5a0-4485-a3a6-1dfc4b749332')\"\n",
              "              title=\"Convert this dataframe to an interactive table.\"\n",
              "              style=\"display:none;\">\n",
              "        \n",
              "  <svg xmlns=\"http://www.w3.org/2000/svg\" height=\"24px\"viewBox=\"0 0 24 24\"\n",
              "       width=\"24px\">\n",
              "    <path d=\"M0 0h24v24H0V0z\" fill=\"none\"/>\n",
              "    <path d=\"M18.56 5.44l.94 2.06.94-2.06 2.06-.94-2.06-.94-.94-2.06-.94 2.06-2.06.94zm-11 1L8.5 8.5l.94-2.06 2.06-.94-2.06-.94L8.5 2.5l-.94 2.06-2.06.94zm10 10l.94 2.06.94-2.06 2.06-.94-2.06-.94-.94-2.06-.94 2.06-2.06.94z\"/><path d=\"M17.41 7.96l-1.37-1.37c-.4-.4-.92-.59-1.43-.59-.52 0-1.04.2-1.43.59L10.3 9.45l-7.72 7.72c-.78.78-.78 2.05 0 2.83L4 21.41c.39.39.9.59 1.41.59.51 0 1.02-.2 1.41-.59l7.78-7.78 2.81-2.81c.8-.78.8-2.07 0-2.86zM5.41 20L4 18.59l7.72-7.72 1.47 1.35L5.41 20z\"/>\n",
              "  </svg>\n",
              "      </button>\n",
              "      \n",
              "  <style>\n",
              "    .colab-df-container {\n",
              "      display:flex;\n",
              "      flex-wrap:wrap;\n",
              "      gap: 12px;\n",
              "    }\n",
              "\n",
              "    .colab-df-convert {\n",
              "      background-color: #E8F0FE;\n",
              "      border: none;\n",
              "      border-radius: 50%;\n",
              "      cursor: pointer;\n",
              "      display: none;\n",
              "      fill: #1967D2;\n",
              "      height: 32px;\n",
              "      padding: 0 0 0 0;\n",
              "      width: 32px;\n",
              "    }\n",
              "\n",
              "    .colab-df-convert:hover {\n",
              "      background-color: #E2EBFA;\n",
              "      box-shadow: 0px 1px 2px rgba(60, 64, 67, 0.3), 0px 1px 3px 1px rgba(60, 64, 67, 0.15);\n",
              "      fill: #174EA6;\n",
              "    }\n",
              "\n",
              "    [theme=dark] .colab-df-convert {\n",
              "      background-color: #3B4455;\n",
              "      fill: #D2E3FC;\n",
              "    }\n",
              "\n",
              "    [theme=dark] .colab-df-convert:hover {\n",
              "      background-color: #434B5C;\n",
              "      box-shadow: 0px 1px 3px 1px rgba(0, 0, 0, 0.15);\n",
              "      filter: drop-shadow(0px 1px 2px rgba(0, 0, 0, 0.3));\n",
              "      fill: #FFFFFF;\n",
              "    }\n",
              "  </style>\n",
              "\n",
              "      <script>\n",
              "        const buttonEl =\n",
              "          document.querySelector('#df-4c8275c0-a5a0-4485-a3a6-1dfc4b749332 button.colab-df-convert');\n",
              "        buttonEl.style.display =\n",
              "          google.colab.kernel.accessAllowed ? 'block' : 'none';\n",
              "\n",
              "        async function convertToInteractive(key) {\n",
              "          const element = document.querySelector('#df-4c8275c0-a5a0-4485-a3a6-1dfc4b749332');\n",
              "          const dataTable =\n",
              "            await google.colab.kernel.invokeFunction('convertToInteractive',\n",
              "                                                     [key], {});\n",
              "          if (!dataTable) return;\n",
              "\n",
              "          const docLinkHtml = 'Like what you see? Visit the ' +\n",
              "            '<a target=\"_blank\" href=https://colab.research.google.com/notebooks/data_table.ipynb>data table notebook</a>'\n",
              "            + ' to learn more about interactive tables.';\n",
              "          element.innerHTML = '';\n",
              "          dataTable['output_type'] = 'display_data';\n",
              "          await google.colab.output.renderOutput(dataTable, element);\n",
              "          const docLink = document.createElement('div');\n",
              "          docLink.innerHTML = docLinkHtml;\n",
              "          element.appendChild(docLink);\n",
              "        }\n",
              "      </script>\n",
              "    </div>\n",
              "  </div>\n",
              "  "
            ]
          },
          "metadata": {},
          "execution_count": 8
        }
      ]
    },
    {
      "cell_type": "markdown",
      "source": [
        "Task 8:"
      ],
      "metadata": {
        "id": "Iwpo1cgOZrjw"
      }
    },
    {
      "cell_type": "code",
      "source": [
        "# B:  H0:μ1=μ2  vs.  Ha:μ1≠μ2"
      ],
      "metadata": {
        "id": "0I8NoKgVZuYG"
      },
      "execution_count": null,
      "outputs": []
    },
    {
      "cell_type": "markdown",
      "source": [
        "Task 9:"
      ],
      "metadata": {
        "id": "M0wccG5cZ8zp"
      }
    },
    {
      "cell_type": "code",
      "source": [
        "# Create new series from a DataFrame\n",
        "male_finish=df_disney['time'][df_disney['gender']=='M']\n",
        "male_finish.head()\n",
        "\n",
        "female_finish=df_disney['time'][df_disney['gender']=='F']\n",
        "female_finish.head()"
      ],
      "metadata": {
        "colab": {
          "base_uri": "https://localhost:8080/"
        },
        "id": "FW4iUa2wZ_Z9",
        "outputId": "fb106831-88bf-4e3a-b856-4ab3c38965ad"
      },
      "execution_count": 11,
      "outputs": [
        {
          "output_type": "execute_result",
          "data": {
            "text/plain": [
              "16    2.905278\n",
              "27    2.985278\n",
              "61    3.207778\n",
              "69    3.244444\n",
              "85    3.290833\n",
              "Name: time, dtype: float64"
            ]
          },
          "metadata": {},
          "execution_count": 11
        }
      ]
    },
    {
      "cell_type": "markdown",
      "source": [
        "Task 10:"
      ],
      "metadata": {
        "id": "L3so_EkMc0yz"
      }
    },
    {
      "cell_type": "code",
      "source": [
        "# Calculate the mean finishing times\n",
        "male_finish_mean=male_finish.mean()\n",
        "female_finish_mean=female_finish.mean()\n",
        "print(male_finish_mean, female_finish_mean)"
      ],
      "metadata": {
        "colab": {
          "base_uri": "https://localhost:8080/"
        },
        "id": "OynipJaSc295",
        "outputId": "e04cba84-d6a1-4b8c-e0db-acf4001047ce"
      },
      "execution_count": 13,
      "outputs": [
        {
          "output_type": "stream",
          "name": "stdout",
          "text": [
            "5.7991597824000305 6.2918419887561425\n"
          ]
        }
      ]
    },
    {
      "cell_type": "markdown",
      "source": [
        "Task 11:"
      ],
      "metadata": {
        "id": "yM6YuFg0dXKO"
      }
    },
    {
      "cell_type": "code",
      "source": [
        "# Calculate the standard deviation\n",
        "male_finish_std=male_finish.std()\n",
        "female_finish_std=female_finish.std()\n",
        "print(male_finish_std, female_finish_std)"
      ],
      "metadata": {
        "colab": {
          "base_uri": "https://localhost:8080/"
        },
        "id": "xmK52mBSdaNj",
        "outputId": "aac789fe-01c9-4034-fb1b-0a5f06ee1386"
      },
      "execution_count": 15,
      "outputs": [
        {
          "output_type": "stream",
          "name": "stdout",
          "text": [
            "1.100676340530381 0.8966901003513601\n"
          ]
        }
      ]
    },
    {
      "cell_type": "markdown",
      "source": [
        "Task 12:"
      ],
      "metadata": {
        "id": "Btkk86l2d7bF"
      }
    },
    {
      "cell_type": "code",
      "source": [
        "#  Conduct a 2-sample t-test\n",
        "disney_tval,disney_pval=st.stats.ttest_ind(male_finish, female_finish, equal_var=False)\n",
        "print(disney_tval,disney_pval)"
      ],
      "metadata": {
        "colab": {
          "base_uri": "https://localhost:8080/"
        },
        "id": "YGc88QLId-Ro",
        "outputId": "9f2ad6b6-c149-4c44-ee7e-c15b15b2df3d"
      },
      "execution_count": 20,
      "outputs": [
        {
          "output_type": "stream",
          "name": "stdout",
          "text": [
            "-28.881795086313662 1.0608693620902552e-177\n"
          ]
        }
      ]
    },
    {
      "cell_type": "markdown",
      "source": [
        "Task 13:"
      ],
      "metadata": {
        "id": "7l5Hjms3fo4m"
      }
    },
    {
      "cell_type": "code",
      "source": [
        "# Answer = 'C'\n",
        "# C: We reject the null hypothesis at the 0.05 significance level and conclude the mean finishing time for male and female marathon runners is the same."
      ],
      "metadata": {
        "id": "YD6zyKrjfrT8"
      },
      "execution_count": null,
      "outputs": []
    }
  ]
}